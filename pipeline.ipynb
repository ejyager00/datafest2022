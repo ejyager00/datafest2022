{
 "cells": [
  {
   "cell_type": "markdown",
   "id": "dd42d1eb",
   "metadata": {},
   "source": [
    "# Feature Engineering"
   ]
  },
  {
   "cell_type": "code",
   "execution_count": 1,
   "id": "2f8259e1",
   "metadata": {},
   "outputs": [],
   "source": [
    "import pandas as pd\n",
    "from pandasql import sqldf\n",
    "import numpy as np"
   ]
  },
  {
   "cell_type": "code",
   "execution_count": 2,
   "id": "d131fdef",
   "metadata": {},
   "outputs": [
    {
     "name": "stderr",
     "output_type": "stream",
     "text": [
      "/tmp/ipykernel_105000/2077613250.py:1: DtypeWarning: Columns (34,38,39,40,47,50,53,54,57,58,59,60,62,68,70,72,73,74,76,77,78,81,85,88,89,90,91,92,96,97,98,99,100,101,102,103,104,105,106,107,108,109,110,111,112,113,114,115,116,118,120,121,122,123,129,131) have mixed types. Specify dtype option on import or set low_memory=False.\n",
      "  data = pd.read_csv(\"../data/For Students-Updated2022-03-25/data files/logs.csv\")\n"
     ]
    }
   ],
   "source": [
    "data = pd.read_csv(\"../data/For Students-Updated2022-03-25/data files/logs.csv\")"
   ]
  },
  {
   "cell_type": "code",
   "execution_count": 3,
   "id": "68d180ce",
   "metadata": {},
   "outputs": [],
   "source": [
    "swear_words = list(pd.read_csv(\"../data/external/bad_words.csv\").en_bad_words)"
   ]
  },
  {
   "cell_type": "code",
   "execution_count": 4,
   "id": "aa39d2d4",
   "metadata": {},
   "outputs": [],
   "source": [
    "# Idling Calculations\n",
    "def idle_time(data, idle_period=60):\n",
    "    idle_time = 0\n",
    "    idle_instances = 0\n",
    "    for i, x in data.iterrows():\n",
    "        if i!=0:\n",
    "            diff=x.event_time_dbl-data.iloc[i-1].event_time_dbl\n",
    "            if diff>idle_period:\n",
    "                idle_time+=diff\n",
    "                idle_instances+=1\n",
    "    return (idle_time, idle_instances)\n",
    "\n",
    "def full_idle(data, idle_period=60):\n",
    "    results = {\n",
    "        'player_id':[],\n",
    "        f'idle_time_{idle_period}':[],\n",
    "        f'idle_count_{idle_period}':[]\n",
    "    }\n",
    "    \n",
    "    temp = data.copy()\n",
    "    temp.reset_index(inplace=True)\n",
    "    results['player_id'].append(temp.player_id.unique()[0])\n",
    "    time, instance = idle_time(temp, idle_period=idle_period)\n",
    "    results[f'idle_time_{idle_period}'].append(time)\n",
    "    results[f'idle_count_{idle_period}'].append(instance)\n",
    "    \n",
    "    return pd.DataFrame(results)\n",
    "\n",
    "def count_events(data):\n",
    "    return pd.DataFrame({\"player_id\":list(data.player_id)[0],\"total_events\":[data.shape[0]]})\n",
    "\n",
    "def total_time(data):\n",
    "    init_time = list(data[\"event_time_dbl\"])[0]\n",
    "    end_time = list(data[\"event_time_dbl\"])[-1]\n",
    "    return pd.DataFrame({\"player_id\":list(data.player_id)[0],\"total_time\":[end_time-init_time]})\n",
    "\n",
    "def used_profanity(data):\n",
    "    profanity_count = 0\n",
    "    profanity = \"\"\n",
    "    for i in \" \".join(list(data.new_label.dropna().unique())).split(\" \"):\n",
    "        if(i in swear_words):\n",
    "            profanity_count += 1\n",
    "            profanity += i + \", \"\n",
    "    if(profanity != \"\"):\n",
    "        profanity = profanity[:-2]\n",
    "    return pd.DataFrame({\"player_id\":list(data.player_id)[0], \"profanity_uses\":[profanity_count], \"profane_text\":[profanity if profanity != \"\" else np.nan]})\n",
    "\n",
    "def get_quit_count(data):\n",
    "    num_quits = data[data[\"event_id\"] == 1002].shape[0]\n",
    "    if(not num_quits <= 0 or type(num_quits) != type(int)):\n",
    "        num_quits = 0\n",
    "    return pd.DataFrame({\"player_id\":list(data.player_id)[0],\"total_quits\":[num_quits]})\n",
    "\n",
    "def get_labels(data):\n",
    "    available_labels = ['020', '820', '350', '430', '121', '021', '521', \n",
    "                '320', '300', '830', '630', '810', '120', '011', \n",
    "                '010', '420', '640', '210', '110', '840', '022', \n",
    "                '111', '520', '200', '540']\n",
    "    appeared_labels = []\n",
    "    filled_labels = []\n",
    "    \n",
    "    for i in available_labels:\n",
    "        for index, row in data[(data[\"aa_level_id\"] == int(i[0]))&(data[\"chunk_id\"] == int(i[1]))&(data[\"piece_id\"] == int(i[0]))].iterrows():\n",
    "            if(i not in filled_labels and row[\"new_label\"] is not np.nan):\n",
    "                if(i not in appeared_labels):\n",
    "                    appeared_labels.append(i)\n",
    "                filled_labels.append(i)\n",
    "            elif(i not in appeared_labels and row[\"new_label\"] is np.nan):\n",
    "                appeared_labels.append(i)\n",
    "    if(len(appeared_labels) == 0):\n",
    "        prop = 1\n",
    "    else:\n",
    "        prop = len(filled_labels)/len(appeared_labels)\n",
    "    return pd.DataFrame({\"player_id\":list(data.player_id)[0],\"label_filled_count\":[len(filled_labels)],\"proportion_filled_labels\":[prop]})\n",
    "\n",
    "def get_minigames_completed(data):\n",
    "    completed = 0\n",
    "    total_done = data[(data[\"event_id\"] == 1001)].shape[0]\n",
    "    total_restart = data[(data[\"event_id\"] == 1000)].shape[0]\n",
    "    return pd.DataFrame({\"player_id\":list(data.player_id)[0],\"total_minigames_done_btn\":[total_done],\"total_restarts\":[total_restart]})\n",
    "\n",
    "def total_stars_earned(data):\n",
    "    player_ids = data.player_id.unique()\n",
    "    results = {'player_id':[],'total_stars':[]}\n",
    "    data = data[data.event_id == 1005]\n",
    "    for p_id in player_ids:\n",
    "        temp_data = data[data.player_id==p_id]\n",
    "        stars = 0\n",
    "        for i, x in data.iterrows():\n",
    "            stars += x.new_skill_point - x.old_skill_point\n",
    "        results['player_id'].append(p_id)\n",
    "        results['total_stars'].append(stars)\n",
    "    return pd.DataFrame(results)\n",
    "\n",
    "def unique_minigames_completed(sessions):\n",
    "    completed_minigames = set()\n",
    "    new = {}\n",
    "    for s in sessions:\n",
    "        this_set = set()\n",
    "        data = sessions[s][(sessions[s].event_id==1001)|(sessions[s].event_id==1003)].reset_index(drop=True)\n",
    "        last_id = -1\n",
    "        for i, x in data.iterrows():\n",
    "            if x.event_id == 1003:\n",
    "                last_id = x.minigame_id\n",
    "            elif x.event_id == 1001:\n",
    "                this_set.add((last_id, x.minigame_level))\n",
    "        try:\n",
    "            pid = list(data.iloc[0].player_id)[0]\n",
    "        except:\n",
    "            pid = np.nan\n",
    "        new[s] = pd.DataFrame({\n",
    "            'player_id': [pid],\n",
    "            'new_minigames_completed': [len(this_set-completed_minigames)]\n",
    "        })\n",
    "        completed_minigames = completed_minigames.union(this_set)\n",
    "    return new"
   ]
  },
  {
   "cell_type": "code",
   "execution_count": 5,
   "id": "fd748287",
   "metadata": {},
   "outputs": [
    {
     "name": "stdout",
     "output_type": "stream",
     "text": [
      "Session 1\n",
      "Session 2\n",
      "Session 3\n",
      "Session 4\n",
      "Session 5\n",
      "Session 6\n",
      "Session 7\n",
      "Session 8\n",
      "Session 9\n",
      "Session 10\n",
      "Session 11\n"
     ]
    }
   ],
   "source": [
    "data = data[data[\"player_id\"] == list(data.player_id)[0]]\n",
    "players = {x:[] for x in data.player_id.unique()}\n",
    "for i,player in enumerate(data.player_id.unique()):\n",
    "    p_subset = data[data[\"player_id\"] == player]\n",
    "    sessions = {x:[] for x in p_subset.session.unique()}\n",
    "    for session in p_subset.session.unique():\n",
    "\n",
    "        s_subset = p_subset[p_subset[\"session\"] == session]\n",
    "\n",
    "        full_sub = s_subset.copy()\n",
    "\n",
    "        s_idle = full_idle(s_subset, idle_period=60)\n",
    "        full_sub = sqldf(\"SELECT * FROM full_sub INNER JOIN s_idle ON full_sub.player_id = s_idle.player_id\")\n",
    "        s_idle = full_idle(s_subset, idle_period=300)\n",
    "        full_sub = sqldf(\"SELECT * FROM full_sub INNER JOIN s_idle ON full_sub.player_id = s_idle.player_id\")\n",
    "        s_event_count = count_events(s_subset)\n",
    "        full_sub = sqldf(\"SELECT * FROM full_sub INNER JOIN s_event_count ON full_sub.player_id = s_event_count.player_id\")\n",
    "        s_total_time = total_time(s_subset)\n",
    "        full_sub = sqldf(\"SELECT * FROM full_sub INNER JOIN s_total_time ON full_sub.player_id = s_total_time.player_id\")\n",
    "        s_profanity = used_profanity(s_subset)\n",
    "        full_sub = sqldf(\"SELECT * FROM full_sub INNER JOIN s_profanity ON full_sub.player_id = s_profanity.player_id\")\n",
    "        s_quit = get_quit_count(s_subset)\n",
    "        full_sub = sqldf(\"SELECT * FROM full_sub INNER JOIN s_quit ON full_sub.player_id = s_quit.player_id\")\n",
    "        s_labels = get_labels(s_subset)\n",
    "        full_sub = sqldf(\"SELECT * FROM full_sub INNER JOIN s_labels ON full_sub.player_id = s_labels.player_id\")\n",
    "        s_minigames = get_minigames_completed(s_subset)\n",
    "        full_sub = sqldf(\"SELECT * FROM full_sub INNER JOIN s_minigames ON full_sub.player_id = s_minigames.player_id\")\n",
    "        s_stars = total_stars_earned(s_subset)\n",
    "        full_sub = sqldf(\"SELECT * FROM full_sub INNER JOIN s_stars ON full_sub.player_id = s_stars.player_id\")\n",
    "        \n",
    "        for col in [\"idle_time_60\",\"idle_count_60\",\"idle_time_300\",\"idle_count_300\",\"total_stars\",\"new_minigames_completed\",\"total_minigames_done_btn\",\"total_quits\",\"total_restarts\",\"proportion_filled_labels\",\"total_events\",\"profanity_uses\"]:\n",
    "            if(col not in full_sub.columns):\n",
    "                    full_sub[col] = 0\n",
    "\n",
    "        print(session)\n",
    "\n",
    "        sessions[session] = full_sub\n",
    "    p_session_mgs = unique_minigames_completed(sessions)\n",
    "    for i in p_session_mgs:\n",
    "        session_df = sessions[i].T.drop_duplicates().T\n",
    "        #print(session_df)\n",
    "        session_mgs_df = p_session_mgs[i].T.drop_duplicates().T\n",
    "        #print(session_mgs_df.player_id)\n",
    "        #print(session_mgs_df.unique_minigames_completed)\n",
    "        sessions[i] = sqldf(\"SELECT * FROM session_df INNER JOIN session_mgs_df ON session_df.player_id = session_mgs_df.player_id\")\n",
    "    players[player] = sessions\n",
    "#players"
   ]
  },
  {
   "cell_type": "markdown",
   "id": "6b99a5f8",
   "metadata": {},
   "source": [
    "# Report Generation"
   ]
  },
  {
   "cell_type": "code",
   "execution_count": 6,
   "id": "4700b9f9",
   "metadata": {},
   "outputs": [],
   "source": [
    "import numpy as np\n",
    "import pandas as pd\n",
    "import matplotlib.pyplot as plt"
   ]
  },
  {
   "cell_type": "code",
   "execution_count": 7,
   "id": "fe24dbb5",
   "metadata": {},
   "outputs": [],
   "source": [
    "features = [\n",
    "    \"idle_time_60\", \n",
    "    \"idle_count_60\", \n",
    "    \"idle_time_300\", \n",
    "    \"idle_count_300\", \n",
    "    \"total_stars\",\n",
    "    \"total_minigames_completed\",\n",
    "    \"new_minigames_completed\",\n",
    "    \"total_events\",\n",
    "    \"total_time\",\n",
    "    \"profanity_uses\",\n",
    "    \"total_quits\", \n",
    "    \"total_restarts\",\n",
    "    \"proportion_filled_labels\"\n",
    "]\n",
    "\n",
    "additional = [\"profane_text\"]"
   ]
  },
  {
   "cell_type": "code",
   "execution_count": 8,
   "id": "45de0c86",
   "metadata": {},
   "outputs": [],
   "source": [
    "def string_report(data):\n",
    "    player_session_data = data.copy()\n",
    "    for session in player_session_data:\n",
    "        p = player_session_data[session]\n",
    "        player_session_data[session] = sqldf(\"SELECT * FROM p LIMIT 1\")\n",
    "        for col in [\"idle_time_60\",\"idle_count_60\",\"idle_time_300\",\"idle_count_300\",\"total_stars\",\"new_minigames_completed\",\"total_minigames_done_btn\",\"total_quits\",\"total_restarts\",\"proportion_filled_labels\",\"total_events\",\"profanity_uses\"]:\n",
    "            if(col not in player_session_data[session].columns):\n",
    "                    player_session_data[session][col] = 0\n",
    "        if(\"profane_text\" not in player_session_data[session].columns):\n",
    "            player_session_data[session][\"profane_text\"] = \"\"\n",
    "        player_session_data[session] = pd.Series(player_session_data[session].iloc[0])\n",
    "    recent_keys = sorted(list(player_session_data.keys()), key=lambda x: x.strip()[-1], reverse=True)\n",
    "    present = recent_keys[0]\n",
    "    previous = recent_keys[1]\n",
    "    return f\"\"\"Last Session\n",
    "============\n",
    "Idle time (1 min): {np.round_(player_session_data[previous].idle_time_60/60)}\n",
    "Idle count (1 min): {np.round_(player_session_data[previous].idle_count_60/60)}\n",
    "Idle time (5 min): {np.round_(player_session_data[previous].idle_time_300/60)}\n",
    "Idle count (5 min): {np.round_(player_session_data[previous].idle_count_300/60)}\n",
    "Stars earned: {np.round_(player_session_data[previous].total_stars)}\n",
    "New minigames completed: {np.round_(player_session_data[previous].new_minigames_completed)}\n",
    "Total minigames completed: {np.round_(player_session_data[previous].total_minigames_done_btn)}\n",
    "Minigame quits: {np.round_(player_session_data[previous].total_quits)}\n",
    "Minigame restarts: {np.round_(player_session_data[previous].total_restarts)}\n",
    "Label filled proportion: {np.round_(player_session_data[previous].proportion_filled_labels)}\n",
    "Total events: {np.round_(player_session_data[previous].total_events)}\n",
    "Number of profane words used: {player_session_data[previous].profanity_uses}\n",
    "Profane text: {player_session_data[previous].profane_text}\n",
    "\n",
    "This Session\n",
    "============\n",
    "Idle time (1 min): {np.round_(player_session_data[present].idle_time_60/60)} minutes, {np.round_(player_session_data[present].idle_count_60)} instances\n",
    "    Percent change time: {np.round_(100*(player_session_data[present].idle_time_60-player_session_data[previous].idle_time_60)/max(player_session_data[previous].idle_time_60,.00001))}%\n",
    "    Percent change instances: {np.round_(100*(player_session_data[present].idle_count_60-player_session_data[previous].idle_count_60)/max(player_session_data[previous].idle_count_60,.00001))}%\n",
    "Idle time (5 min): {np.round_(player_session_data[present].idle_time_300/60)} minutes, {np.round_(player_session_data[present].idle_count_300)} instances\n",
    "    Percent change time: {np.round_(100*(player_session_data[present].idle_time_300-player_session_data[previous].idle_time_300)/max(player_session_data[previous].idle_time_300,.00001))}%\n",
    "    Percent change instances: {np.round_(100*(player_session_data[present].idle_count_300-player_session_data[previous].idle_count_300)/max(player_session_data[previous].idle_count_300,.00001))}%\n",
    "Stars earned: {np.round_(player_session_data[present].total_stars)}\n",
    "    Percent change: {np.round_(100*(player_session_data[present].total_stars-player_session_data[previous].total_stars)/max(player_session_data[previous].total_stars,.00001))}%\n",
    "New minigames completed: {np.round_(player_session_data[present].new_minigames_completed)}\n",
    "    Percent change: {np.round_(100*(player_session_data[present].new_minigames_completed-player_session_data[previous].new_minigames_completed)/max(player_session_data[previous].new_minigames_completed,.00001))}%\n",
    "Minigame quits: {np.round_(player_session_data[present].total_quits)}\n",
    "    Percent change: {np.round_(100*(player_session_data[present].total_quits-player_session_data[previous].total_quits)/max(player_session_data[previous].total_quits,.00001))}%\n",
    "Minigame restarts: {player_session_data[present].total_restarts}\n",
    "    Percent change: {np.round_(100*(player_session_data[present].total_restarts-player_session_data[previous].total_restarts)/max(player_session_data[previous].total_restarts,.00001))}%\n",
    "Label filled proportion: {np.round_(player_session_data[present].proportion_filled_labels)}\n",
    "    Percent change: {np.round_(100*(player_session_data[present].proportion_filled_labels-player_session_data[previous].proportion_filled_labels)/max(player_session_data[previous].proportion_filled_labels,.00001))}%\n",
    "Total events: {np.round_(player_session_data[present].total_events)}\n",
    "    Percent change: {np.round_(100*(player_session_data[present].total_events-player_session_data[previous].total_events)/max(player_session_data[previous].total_events,.00001))}%\n",
    "Profanity used: {player_session_data[present].profanity_uses}\n",
    "    Percent change: {np.round_(100*(player_session_data[present].profanity_uses-player_session_data[previous].profanity_uses)/max(player_session_data[previous].profanity_uses,.00001))}%\n",
    "    Previous profane text: {player_session_data[previous].profane_text}\n",
    "\"\"\""
   ]
  },
  {
   "cell_type": "code",
   "execution_count": 9,
   "id": "5d0a35af",
   "metadata": {},
   "outputs": [],
   "source": [
    "def string_report_2(data):\n",
    "    player_session_data = data.copy()\n",
    "    for session in player_session_data:\n",
    "        p = player_session_data[session]\n",
    "        player_session_data[session] = sqldf(\"SELECT * FROM p LIMIT 1\")\n",
    "        for col in [\"idle_time_60\",\"idle_count_60\",\"idle_time_300\",\"idle_count_300\",\"total_stars\",\"new_minigames_completed\",\"total_minigames_done_btn\",\"total_quits\",\"total_restarts\",\"proportion_filled_labels\",\"total_events\",\"profanity_uses\"]:\n",
    "            if(col not in player_session_data[session].columns):\n",
    "                    player_session_data[session][col] = 0\n",
    "        if(\"profane_text\" not in player_session_data[session].columns):\n",
    "            player_session_data[session][\"profane_text\"] = \"\"\n",
    "        player_session_data[session] = pd.Series(player_session_data[session].iloc[0])\n",
    "    recent_keys = sorted(list(player_session_data.keys()), key=lambda x: x.strip()[-1], reverse=True)\n",
    "    present = recent_keys[0]\n",
    "    previous = recent_keys[1]\n",
    "   \n",
    "    result_string = \"Last Session\\n============\\n\"\n",
    "    try:\n",
    "        result_string += f\"Idle time (1 min): {np.round_(player_session_data[previous]['idle_time_60'])}\\n\"\n",
    "    except AttributeError:\n",
    "        result_string += f\"Idle time (1 min): N/A\\n\"\n",
    "    try:\n",
    "        result_string += f\"Idle count (1 min): {np.round_(player_session_data[previous]['idle_count_60'])}\\n\"\n",
    "    except AttributeError:\n",
    "        result_string += f\"Idle count (1 min): N/A\\n\"\n",
    "    try:\n",
    "        result_string += f\"Idle time (5 min): {np.round_(player_session_data[previous]['idle_time_300'])}\\n\"\n",
    "    except AttributeError:\n",
    "        result_string += f\"Idle time (5 min): N/A\\n\"\n",
    "    try:\n",
    "        result_string += f\"Idle count (5 min): {np.round_(player_session_data[previous]['idle_count_300'])}\\n\"\n",
    "    except AttributeError:\n",
    "        result_string += f\"Idle count (5 min): N/A\\n\"\n",
    "    try:\n",
    "        result_string += f\"Stars earned: {np.round_(player_session_data[previous]['total_stars'])}\\n\"\n",
    "    except AttributeError:\n",
    "        result_string += f\"Stars earned: N/A\\n\"\n",
    "    try:\n",
    "        result_string += f\"New minigames completed: {np.round_(player_session_data[previous]['new_minigames_completed'])}\\n\"\n",
    "    except AttributeError:\n",
    "        result_string += f\"New minigames completed: N/A\\n\"\n",
    "    try:\n",
    "        result_string += f\"Total minigames completed: {np.round_(player_session_data[previous]['total_minigames_done_btn'])}\\n\"\n",
    "    except AttributeError:\n",
    "        result_string += f\"Total minigames completed: N/A\\n\"\n",
    "    try:\n",
    "        result_string += f\"Minigame quits: {np.round_(player_session_data[previous]['total_quits'])}\\n\"\n",
    "    except AttributeError:\n",
    "        result_string += f\"Minigame quits: N/A\\n\"\n",
    "    try:\n",
    "        result_string += f\"Minigame restarts: {np.round_(player_session_data[previous]['total_restarts'])}\\n\"\n",
    "    except AttributeError:\n",
    "        result_string += f\"Minigame restarts: N/A\\n\"\n",
    "    try:\n",
    "        result_string += f\"Label filled proportion: {np.round_(player_session_data[previous]['proportion_filled_labels'])}\\n\"\n",
    "    except AttributeError:\n",
    "        result_string += f\"Label filled proportion: N/A\\n\"\n",
    "    try:\n",
    "        result_string += f\"Total events: {np.round_(player_session_data[previous]['total_events'])}\\n\"\n",
    "    except AttributeError:\n",
    "        result_string += f\"Total events: N/A\\n\"\n",
    "    try:\n",
    "        result_string += f\"Number of profane words used: {player_session_data[previous]['profanity_uses']}\\n\"\n",
    "    except AttributeError:\n",
    "        result_string += f\"Number of profane words used: N/A\\n\"\n",
    "    try:\n",
    "        result_string += f\"Profane text: {player_session_data[previous]['profane_text']}\\n\"\n",
    "    except AttributeError:\n",
    "        result_string += f\"Profane text: N/A\\n\"\n",
    "    result_string += \"This Session\\n============\\n\"\n",
    "    try:\n",
    "        result_string += f\"Idle time (1 min): {np.round_(player_session_data[present]['idle_time_60'])} minutes, {np.round_(player_session_data[present]['idle_count_60'])} instances\\n\"\n",
    "    except AttributeError:\n",
    "        result_string += f\"Idle time (1 min): N/A\\n\"\n",
    "    try:\n",
    "        result_string += f\"\\tPercent change time: {np.round_(100*(player_session_data[present]['idle_time_60'][0]-player_session_data[previous]['idle_time_60'])/max(player_session_data[previous]['idle_time_60'],.00001))}%\\n\"\n",
    "    except AttributeError:\n",
    "        result_string += f\"\\tPercent change time: N/A\\n\"\n",
    "    try:\n",
    "        result_string += f\"\\tPercent change instances: {np.round_(100*(player_session_data[present]['idle_count_60']-player_session_data[previous]['idle_count_60'])/max(player_session_data[previous]['idle_count_60'],.00001))}%\\n\"\n",
    "    except AttributeError:\n",
    "        result_string += f\"\\tPercent change instances: N/A\\n\"\n",
    "    try:\n",
    "        result_string += f\"Idle time (5 min): {np.round_(player_session_data[present]['idle_time_300'])} minutes, {np.round_(player_session_data[present]['idle_count_300'])} instances\\n\"\n",
    "    except AttributeError:\n",
    "        result_string += f\"Idle time (5 min): N/A\\n\"\n",
    "    try:\n",
    "        result_string += f\"\\tPercent change time: {np.round_(100*(player_session_data[present]['idle_time_300']-player_session_data[previous]['idle_time_300'])/max(player_session_data[previous]['idle_time_300'],.00001))}%\\n\"\n",
    "    except AttributeError:\n",
    "        result_string += f\"\\tPercent change time: N/A\\n\"\n",
    "    try:\n",
    "        result_string += f\"\\tPercent change instances: {np.round_(100*(player_session_data[present]['idle_count_300']-player_session_data[previous]['idle_count_300'])/max(player_session_data[previous]['idle_count_300'],.00001))}%\\n\"\n",
    "    except AttributeError:\n",
    "        result_string += f\"\\tPercent change instances: N/A\\n\"\n",
    "    try:\n",
    "        result_string += f\"Stars earned: {np.round_(player_session_data[present]['total_stars'])}\\n\"\n",
    "    except AttributeError:\n",
    "        result_string += f\"Stars earned: N/A\\n\"\n",
    "    try:\n",
    "        result_string += f\"\\tPercent change: {np.round_(100*(player_session_data[present]['total_stars']-player_session_data[previous]['total_stars'])/max(player_session_data[previous]['stars_by_total_stars'],.00001))}%\\n\"\n",
    "    except AttributeError:\n",
    "        result_string += f\"\\tPercent change: N/A\\n\"\n",
    "    try:\n",
    "        result_string += f\"New minigames completed: {np.round_(player_session_data[present]['new_minigames_completed'])}\\n\"\n",
    "    except AttributeError:\n",
    "        result_string += f\"New minigames completed: N/A\\n\"\n",
    "    try:\n",
    "        result_string += f\"\\tPercent change: {np.round_(100*(player_session_data[present]['new_minigames_completed']-player_session_data[previous]['new_minigames_completed'])/max(player_session_data[previous]['new_minigames_completed'],.00001))}%\\n\"\n",
    "    except AttributeError:\n",
    "        result_string += f\"\\tPercent change: N/A\\n\"\n",
    "    try:\n",
    "        result_string += f\"Minigame quits: {np.round_(player_session_data[present]['total_quits'])}\\n\"\n",
    "    except AttributeError:\n",
    "        result_string += f\"Minigame quits: N/A\\n\"\n",
    "    try:\n",
    "        result_string += f\"\\tPercent change: {np.round_(100*(player_session_data[present]['total_quits']-player_session_data[previous]['total_quits'])/max(player_session_data[previous]['total_quits'],.00001))}%\\n\"\n",
    "    except AttributeError:\n",
    "        result_string += f\"\\tPercent change: N/A\\n\"\n",
    "    try:\n",
    "        result_string += f\"Minigame restarts: {player_session_data[present]['total_restarts']}\\n\"\n",
    "    except AttributeError:\n",
    "        result_string += f\"Minigame restarts: N/A\\n\"\n",
    "    try:\n",
    "        result_string += f\"\\tPercent change: {np.round_(100*(player_session_data[present]['total_restarts']-player_session_data[previous]['total_restarts'])/max(player_session_data[previous]['total_restarts'],.00001))}%\\n\"\n",
    "    except AttributeError:\n",
    "        result_string += f\"\\tPercent change: N/A\\n\"\n",
    "    try:\n",
    "        result_string += f\"Label filled proportion: {np.round_(player_session_data[present]['proportion_filled_labels'])}\\n\"\n",
    "    except AttributeError:\n",
    "        result_string += f\"Label filled proportion: N/A\\n\"\n",
    "    try:\n",
    "        result_string += f\"\\tPercent change: {np.round_(100*(player_session_data[present]['proportion_filled_labels']-player_session_data[previous]['proportion_filled_labels'])/max(player_session_data[previous]['proportion_filled_labels'],.00001))}%\\n\"\n",
    "    except AttributeError:\n",
    "        result_string += f\"\\tPercent change: N/A\\n\"\n",
    "    try:\n",
    "        result_string += f\"Total events: {np.round_(player_session_data[present]['total_events'])}, {np.round_(player_session_data[present]['events_in_session'])} per minute\\n\"\n",
    "    except AttributeError:\n",
    "        result_string += f\"Total events: N/A\\n\"\n",
    "    try:\n",
    "        result_string += f\"\\tPercent change: {np.round_(100*(player_session_data[present]['total_events']-player_session_data[previous]['total_events'])/max(player_session_data[previous]['total_events'],.00001))}%\\n\"\n",
    "    except AttributeError:\n",
    "        result_string += f\"\\tPercent change: N/A\\n\"\n",
    "    try:\n",
    "        result_string += f\"Profanity used: {player_session_data[present]['profanity_uses']}\\n\"\n",
    "    except AttributeError:\n",
    "        result_string += f\"Profanity used: N/A\\n\"\n",
    "    try:\n",
    "        result_string += f\"\\tPercent change: {np.round_(100*(player_session_data[present]['profanity_uses']-player_session_data[previous]['profanity_uses'])/max(player_session_data[previous]['profanity_uses'],.00001))}%\\n\"\n",
    "    except AttributeError:\n",
    "        result_string += f\"\\tPercent change: N/A\\n\"\n",
    "    try:\n",
    "        result_string += f\"\\tPrevious profane text: {player_session_data[previous]['profane_text']}%\\n\"\n",
    "    except AttributeError:\n",
    "        result_string += f\"\\tPrevious profane text: N/A\\n\"\n",
    "       \n",
    "    return result_string\n"
   ]
  },
  {
   "cell_type": "code",
   "execution_count": 10,
   "id": "9bf41b60",
   "metadata": {},
   "outputs": [],
   "source": [
    "def plots(data):\n",
    "    player_session_data = data.copy()\n",
    "    for session in player_session_data:\n",
    "        p = player_session_data[session]\n",
    "        player_session_data[session] = sqldf(\"SELECT * FROM p LIMIT 1\")\n",
    "        for col in [\"idle_time_60\",\"idle_count_60\",\"idle_time_300\",\"idle_count_300\",\"total_stars\",\"new_minigames_completed\",\"total_minigames_done_btn\",\"total_quits\",\"total_restarts\",\"proportion_filled_labels\",\"total_events\",\"profanity_uses\"]:\n",
    "            if(col not in player_session_data[session].columns):\n",
    "                    player_session_data[session][col] = 0\n",
    "        if(\"profane_text\" not in player_session_data[session].columns):\n",
    "            player_session_data[session][\"profane_text\"] = \"\"\n",
    "        player_session_data[session] = pd.Series(player_session_data[session].iloc[0])\n",
    "       \n",
    "    recent_keys = sorted(list(player_session_data.keys()), key=lambda x: x.strip()[-2])\n",
    "    indices = [x.lower().replace(\"session\",\"\").strip() for x in recent_keys]\n",
    "    fig, axs = plt.subplots(3, 3)\n",
    "    fig.set_size_inches((12,12))\n",
    "    fig.tight_layout(w_pad=3,h_pad=2)\n",
    "    \n",
    "    colors = ['#0b6374']*(len(player_session_data)-1)\n",
    "    colors.append('#8dd8d3')\n",
    "        \n",
    "\n",
    "    axs[0, 0].bar(\n",
    "        indices,\n",
    "        [player_session_data[x].idle_time_60 for x in recent_keys],\n",
    "        color=colors\n",
    "    )\n",
    "    axs[0, 0].set_title('Idle time (1 min)')\n",
    "    axs[0, 0].set_ylabel('minutes')\n",
    "\n",
    "    axs[0, 1].bar(\n",
    "        indices,\n",
    "        [player_session_data[x].idle_time_300 for x in recent_keys],\n",
    "        color=colors\n",
    "    )\n",
    "    axs[0, 1].set_title('Idle time (5 min)')\n",
    "    axs[0, 1].set_ylabel('minutes')\n",
    "\n",
    "    axs[0, 2].bar(\n",
    "        indices,\n",
    "        [player_session_data[x].total_stars for x in recent_keys],\n",
    "        color=colors\n",
    "    )\n",
    "    axs[0, 2].set_title('Total stars')\n",
    "    axs[0, 2].set_ylabel('stars')\n",
    "\n",
    "    axs[1, 0].bar(\n",
    "        indices,\n",
    "        [player_session_data[x].new_minigames_completed for x in recent_keys],\n",
    "        color=colors\n",
    "    )\n",
    "    axs[1, 0].set_title('New minigames completed')\n",
    "    axs[1, 0].set_ylabel('minigames')\n",
    "\n",
    "    axs[1, 1].bar(\n",
    "        indices,\n",
    "        [player_session_data[x].total_quits for x in recent_keys],\n",
    "        color=colors\n",
    "    )\n",
    "    axs[1, 1].set_title('Minigame quits')\n",
    "    axs[1, 1].set_ylabel('quits')\n",
    "\n",
    "    axs[1, 2].bar(\n",
    "        indices,\n",
    "        [player_session_data[x].total_restarts for x in recent_keys],\n",
    "        color=colors\n",
    "    )\n",
    "    axs[1, 2].set_title('Minigame restarts')\n",
    "    axs[1, 2].set_ylabel('restarts')\n",
    "\n",
    "    axs[2, 0].bar(\n",
    "        indices,\n",
    "        [player_session_data[x].proportion_filled_labels for x in recent_keys],\n",
    "        color=colors\n",
    "    )\n",
    "    axs[2, 0].set_title('Label filled proportion')\n",
    "    axs[2, 0].set_ylabel('labels answered')\n",
    "\n",
    "    axs[2, 1].bar(\n",
    "        indices,\n",
    "        [player_session_data[x].total_events for x in recent_keys],\n",
    "        color=colors\n",
    "    )\n",
    "    axs[2, 1].set_title('Total events')\n",
    "    axs[2, 1].set_ylabel('events')\n",
    "\n",
    "    axs[2, 2].bar(\n",
    "        indices,\n",
    "        [player_session_data[x].profanity_uses for x in recent_keys],\n",
    "        color=colors\n",
    "    )\n",
    "    axs[2, 2].set_title('Profanity used')\n",
    "    axs[2, 2].set_ylabel('number of times profanity was used')"
   ]
  },
  {
   "cell_type": "code",
   "execution_count": 11,
   "id": "18505070",
   "metadata": {},
   "outputs": [],
   "source": [
    "#function definition\n",
    "def events_completed_in_each_timespan(data, start=None, end=None, event_ids=None, span=None):\n",
    "    if not (event_ids is None):\n",
    "        data = data[[x.event_id in tuple(event_ids) for i, x in data.iterrows()]]\n",
    "    if not (start is None):\n",
    "        data = data[data.event_time_dbl>=start]\n",
    "    start = np.min(data.event_time_dbl)\n",
    "    if not (end is None):\n",
    "        data = data[data.event_time_dbl<=end]\n",
    "    end = np.max(data.event_time_dbl)\n",
    "    if span is not None:\n",
    "        eventsCompleted = []\n",
    "        timesGiven = []\n",
    "        current_time = start\n",
    "        eventsCompleted.append(0)\n",
    "        while (current_time < end):\n",
    "            timesGiven.append(int((current_time - start)/60))\n",
    "            eventsCompletedDuringSpan = events_completed_in_each_timespan(data, start = current_time, end = current_time + span, event_ids = None, span = None)\n",
    "            eventsCompleted.append(eventsCompletedDuringSpan)\n",
    "            current_time += 60\n",
    "        timesGiven.append(int((current_time - start)/60))\n",
    "        return timesGiven, eventsCompleted\n",
    "    else:\n",
    "        return data.shape[0]\n",
    "    \n",
    "def time_series(data):\n",
    "    data_new = data.copy()\n",
    "\n",
    "    #function call\n",
    "    timeStamp, eventsCompletedEachMinute = events_completed_in_each_timespan(data_new, start = None, end = None, event_ids = None, span = 60)\n",
    "\n",
    "    #compile lists into dataframe\n",
    "    df = pd.DataFrame(list(zip(timeStamp, eventsCompletedEachMinute)),\n",
    "                   columns =['minutes_passed', 'events_completed_past_minute'])\n",
    "\n",
    "    #make image\n",
    "    if isinstance(df, (pd.DatetimeIndex, pd.MultiIndex)):\n",
    "        df = df.to_frame(index=False)\n",
    "\n",
    "    df = df.reset_index().drop('index', axis=1, errors='ignore')\n",
    "    df.columns = [str(c) for c in df.columns]  # update columns to strings in case they are numbers\n",
    "\n",
    "    chart_data = pd.concat([\n",
    "    df['minutes_passed'],\n",
    "    df['events_completed_past_minute'],\n",
    "    ], axis=1)\n",
    "    chart_data = chart_data.sort_values(['minutes_passed'])\n",
    "    chart_data = chart_data.rename(columns={'minutes_passed': 'x'})\n",
    "    chart_data = chart_data.dropna()\n",
    "\n",
    "    import plotly.graph_objs as go\n",
    "\n",
    "    charts = []\n",
    "    line_cfg = {'line': {'shape': 'spline', 'smoothing': 0.3,'color':'#0b6374'}, 'mode': 'lines'}\n",
    "    charts.append(go.Scatter(\n",
    "    x=chart_data['x'], y=chart_data['events_completed_past_minute'], name='events_completed_past_minute', **line_cfg\n",
    "    ))\n",
    "    figure = go.Figure(data=charts, layout=go.Layout({\n",
    "        'legend': {'orientation': 'h'},\n",
    "        'title': {'text': 'Events Per Minute'},\n",
    "        'xaxis': {'tickformat': '0:g', 'title': {'text': 'Time in Minutes'}},\n",
    "        'yaxis': {'tickformat': '0:g', 'title': {'text': 'Events Completed'}, 'type': 'linear'}\n",
    "    }))\n",
    "\n",
    "    from plotly.offline import iplot, init_notebook_mode\n",
    "\n",
    "    init_notebook_mode(connected=True)\n",
    "    for chart in charts:\n",
    "        chart.pop('id', None)\n",
    "    iplot(figure)"
   ]
  },
  {
   "cell_type": "code",
   "execution_count": 12,
   "id": "d9525b67",
   "metadata": {},
   "outputs": [
    {
     "data": {
      "text/plain": [
       "{'total_stars': [5.5, 18.0],\n",
       " 'total_minigames_done_btn': [3.0, 10.0],\n",
       " 'new_minigames_completed': [0.5, 6.0],\n",
       " 'total_events': [941.5, 1791.5],\n",
       " 'total_time': [2777.0, 4145.0],\n",
       " 'total_quits': [0.0, 0.0],\n",
       " 'total_restarts': [0.0, 0.0],\n",
       " 'idle_time_60': [0.0, 757.5],\n",
       " 'idle_time_300': [0.0, 0.0],\n",
       " 'proportion_filled_labels': [0.0, 1]}"
      ]
     },
     "execution_count": 12,
     "metadata": {},
     "output_type": "execute_result"
    }
   ],
   "source": [
    "x = players\n",
    "attributes = [\"total_stars\",\n",
    "\"total_minigames_done_btn\",\n",
    "\"new_minigames_completed\",\n",
    "\"total_events\",\n",
    "\"total_time\",\n",
    "\"total_quits\", \n",
    "\"total_restarts\",\n",
    "#\"proportion_completed\",\n",
    "\"idle_time_60\", \n",
    "\"idle_time_300\"]\n",
    "\n",
    "quartile_dict = {}\n",
    "\n",
    "for attribute in attributes:\n",
    "    all_measurements = []\n",
    "    for player, player_dict in x.items():\n",
    "        try:\n",
    "            for session, session_data in player_dict.items():\n",
    "                try:\n",
    "                    session_measurement = session_data[attribute].iloc[0]\n",
    "                    all_measurements.append(session_measurement)\n",
    "                except KeyError:\n",
    "                    all_measurements.append(0)\n",
    "                except IndexError:\n",
    "                    all_measurements.append(0)\n",
    "        except AttributeError: \n",
    "            all_measurements.append(0)\n",
    "    try:\n",
    "        measurement_data = np.array(all_measurements)\n",
    "        q3, q1 = np.percentile(measurement_data, [75 ,25])\n",
    "        quartile_dict[attribute] = [q1, q3]\n",
    "    except IndexError:\n",
    "        quartile_dict[attribute] = [-1, -2]\n",
    "quartile_dict[\"idle_time_60\"][0] = 0.0\n",
    "quartile_dict[\"idle_time_300\"][0] = 0.0\n",
    "quartile_dict[\"total_quits\"][0] = 0.0\n",
    "quartile_dict[\"total_restarts\"][0] = 0.0\n",
    "quartile_dict[\"proportion_filled_labels\"] = [0.,1]\n",
    "quartile_dict"
   ]
  },
  {
   "cell_type": "code",
   "execution_count": 13,
   "id": "60b6954c",
   "metadata": {
    "scrolled": false
   },
   "outputs": [
    {
     "name": "stdout",
     "output_type": "stream",
     "text": [
      "player_id: 6427001\n",
      "\n",
      "Last Session\n",
      "============\n",
      "Idle time (1 min): 22.0\n",
      "Idle count (1 min): 0.0\n",
      "Idle time (5 min): 17.0\n",
      "Idle count (5 min): 0.0\n",
      "Stars earned: 6.0\n",
      "New minigames completed: 2\n",
      "Total minigames completed: 3\n",
      "Minigame quits: 0\n",
      "Minigame restarts: 0\n",
      "Label filled proportion: 1\n",
      "Total events: 901\n",
      "Number of profane words used: 0\n",
      "Profane text: \n",
      "\n",
      "This Session\n",
      "============\n",
      "Idle time (1 min): 19.0 minutes, 9 instances\n",
      "    Percent change time: -14.0%\n",
      "    Percent change instances: 125.0%\n",
      "Idle time (5 min): 0.0 minutes, 0 instances\n",
      "    Percent change time: -100.0%\n",
      "    Percent change instances: -100.0%\n",
      "Stars earned: 4.0\n",
      "    Percent change: -33.0%\n",
      "New minigames completed: 0\n",
      "    Percent change: -100.0%\n",
      "Minigame quits: 0\n",
      "    Percent change: 0.0%\n",
      "Minigame restarts: 0\n",
      "    Percent change: 0.0%\n",
      "Label filled proportion: 1\n",
      "    Percent change: 0.0%\n",
      "Total events: 626\n",
      "    Percent change: -31.0%\n",
      "Profanity used: 0\n",
      "    Percent change: 0.0%\n",
      "    Previous profane text: \n",
      "\n",
      "Unusual activity\n",
      "================\n",
      "!! - Number of stars earned was 4.0 but is expected to be between 5.5 and 18.0\n",
      "!! - Total number of minigames completed was 2 but is expected to be between 3.0 and 10.0\n",
      "!! - Number of new minigames completed was 0 but is expected to be between 0.5 and 6.0\n",
      "!! - Total number of events performed was 626 but is expected to be between 941.5 and 1791.5\n",
      "!! - Total time in session was 2468 but is expected to be between 2777.0 and 4145.0\n",
      "!! - Total time spent idling for more than 1 minute was 1141 but is expected to be between 0.0 and 757.5\n"
     ]
    },
    {
     "data": {
      "text/html": [
       "        <script type=\"text/javascript\">\n",
       "        window.PlotlyConfig = {MathJaxConfig: 'local'};\n",
       "        if (window.MathJax) {MathJax.Hub.Config({SVG: {font: \"STIX-Web\"}});}\n",
       "        if (typeof require !== 'undefined') {\n",
       "        require.undef(\"plotly\");\n",
       "        requirejs.config({\n",
       "            paths: {\n",
       "                'plotly': ['https://cdn.plot.ly/plotly-2.9.0.min']\n",
       "            }\n",
       "        });\n",
       "        require(['plotly'], function(Plotly) {\n",
       "            window._Plotly = Plotly;\n",
       "        });\n",
       "        }\n",
       "        </script>\n",
       "        "
      ]
     },
     "metadata": {},
     "output_type": "display_data"
    },
    {
     "data": {
      "application/vnd.plotly.v1+json": {
       "config": {
        "linkText": "Export to plot.ly",
        "plotlyServerURL": "https://plot.ly",
        "showLink": false
       },
       "data": [
        {
         "line": {
          "color": "#0b6374",
          "shape": "spline",
          "smoothing": 0.3
         },
         "mode": "lines",
         "name": "events_completed_past_minute",
         "type": "scatter",
         "x": [
          0,
          1,
          2,
          3,
          4,
          5,
          6,
          7,
          8,
          9,
          10,
          11,
          12,
          13,
          14,
          15,
          16,
          17,
          18,
          19,
          20,
          21,
          22,
          23,
          24,
          25,
          26,
          27,
          28,
          29,
          30,
          31,
          32,
          33,
          34
         ],
         "y": [
          0,
          16,
          23,
          21,
          28,
          34,
          27,
          30,
          29,
          40,
          30,
          40,
          33,
          28,
          24,
          20,
          26,
          32,
          6,
          0,
          0,
          0,
          0,
          11,
          19,
          29,
          23,
          27,
          31,
          30,
          27,
          6,
          20,
          29,
          14
         ]
        }
       ],
       "layout": {
        "legend": {
         "orientation": "h"
        },
        "template": {
         "data": {
          "bar": [
           {
            "error_x": {
             "color": "#2a3f5f"
            },
            "error_y": {
             "color": "#2a3f5f"
            },
            "marker": {
             "line": {
              "color": "#E5ECF6",
              "width": 0.5
             },
             "pattern": {
              "fillmode": "overlay",
              "size": 10,
              "solidity": 0.2
             }
            },
            "type": "bar"
           }
          ],
          "barpolar": [
           {
            "marker": {
             "line": {
              "color": "#E5ECF6",
              "width": 0.5
             },
             "pattern": {
              "fillmode": "overlay",
              "size": 10,
              "solidity": 0.2
             }
            },
            "type": "barpolar"
           }
          ],
          "carpet": [
           {
            "aaxis": {
             "endlinecolor": "#2a3f5f",
             "gridcolor": "white",
             "linecolor": "white",
             "minorgridcolor": "white",
             "startlinecolor": "#2a3f5f"
            },
            "baxis": {
             "endlinecolor": "#2a3f5f",
             "gridcolor": "white",
             "linecolor": "white",
             "minorgridcolor": "white",
             "startlinecolor": "#2a3f5f"
            },
            "type": "carpet"
           }
          ],
          "choropleth": [
           {
            "colorbar": {
             "outlinewidth": 0,
             "ticks": ""
            },
            "type": "choropleth"
           }
          ],
          "contour": [
           {
            "colorbar": {
             "outlinewidth": 0,
             "ticks": ""
            },
            "colorscale": [
             [
              0,
              "#0d0887"
             ],
             [
              0.1111111111111111,
              "#46039f"
             ],
             [
              0.2222222222222222,
              "#7201a8"
             ],
             [
              0.3333333333333333,
              "#9c179e"
             ],
             [
              0.4444444444444444,
              "#bd3786"
             ],
             [
              0.5555555555555556,
              "#d8576b"
             ],
             [
              0.6666666666666666,
              "#ed7953"
             ],
             [
              0.7777777777777778,
              "#fb9f3a"
             ],
             [
              0.8888888888888888,
              "#fdca26"
             ],
             [
              1,
              "#f0f921"
             ]
            ],
            "type": "contour"
           }
          ],
          "contourcarpet": [
           {
            "colorbar": {
             "outlinewidth": 0,
             "ticks": ""
            },
            "type": "contourcarpet"
           }
          ],
          "heatmap": [
           {
            "colorbar": {
             "outlinewidth": 0,
             "ticks": ""
            },
            "colorscale": [
             [
              0,
              "#0d0887"
             ],
             [
              0.1111111111111111,
              "#46039f"
             ],
             [
              0.2222222222222222,
              "#7201a8"
             ],
             [
              0.3333333333333333,
              "#9c179e"
             ],
             [
              0.4444444444444444,
              "#bd3786"
             ],
             [
              0.5555555555555556,
              "#d8576b"
             ],
             [
              0.6666666666666666,
              "#ed7953"
             ],
             [
              0.7777777777777778,
              "#fb9f3a"
             ],
             [
              0.8888888888888888,
              "#fdca26"
             ],
             [
              1,
              "#f0f921"
             ]
            ],
            "type": "heatmap"
           }
          ],
          "heatmapgl": [
           {
            "colorbar": {
             "outlinewidth": 0,
             "ticks": ""
            },
            "colorscale": [
             [
              0,
              "#0d0887"
             ],
             [
              0.1111111111111111,
              "#46039f"
             ],
             [
              0.2222222222222222,
              "#7201a8"
             ],
             [
              0.3333333333333333,
              "#9c179e"
             ],
             [
              0.4444444444444444,
              "#bd3786"
             ],
             [
              0.5555555555555556,
              "#d8576b"
             ],
             [
              0.6666666666666666,
              "#ed7953"
             ],
             [
              0.7777777777777778,
              "#fb9f3a"
             ],
             [
              0.8888888888888888,
              "#fdca26"
             ],
             [
              1,
              "#f0f921"
             ]
            ],
            "type": "heatmapgl"
           }
          ],
          "histogram": [
           {
            "marker": {
             "pattern": {
              "fillmode": "overlay",
              "size": 10,
              "solidity": 0.2
             }
            },
            "type": "histogram"
           }
          ],
          "histogram2d": [
           {
            "colorbar": {
             "outlinewidth": 0,
             "ticks": ""
            },
            "colorscale": [
             [
              0,
              "#0d0887"
             ],
             [
              0.1111111111111111,
              "#46039f"
             ],
             [
              0.2222222222222222,
              "#7201a8"
             ],
             [
              0.3333333333333333,
              "#9c179e"
             ],
             [
              0.4444444444444444,
              "#bd3786"
             ],
             [
              0.5555555555555556,
              "#d8576b"
             ],
             [
              0.6666666666666666,
              "#ed7953"
             ],
             [
              0.7777777777777778,
              "#fb9f3a"
             ],
             [
              0.8888888888888888,
              "#fdca26"
             ],
             [
              1,
              "#f0f921"
             ]
            ],
            "type": "histogram2d"
           }
          ],
          "histogram2dcontour": [
           {
            "colorbar": {
             "outlinewidth": 0,
             "ticks": ""
            },
            "colorscale": [
             [
              0,
              "#0d0887"
             ],
             [
              0.1111111111111111,
              "#46039f"
             ],
             [
              0.2222222222222222,
              "#7201a8"
             ],
             [
              0.3333333333333333,
              "#9c179e"
             ],
             [
              0.4444444444444444,
              "#bd3786"
             ],
             [
              0.5555555555555556,
              "#d8576b"
             ],
             [
              0.6666666666666666,
              "#ed7953"
             ],
             [
              0.7777777777777778,
              "#fb9f3a"
             ],
             [
              0.8888888888888888,
              "#fdca26"
             ],
             [
              1,
              "#f0f921"
             ]
            ],
            "type": "histogram2dcontour"
           }
          ],
          "mesh3d": [
           {
            "colorbar": {
             "outlinewidth": 0,
             "ticks": ""
            },
            "type": "mesh3d"
           }
          ],
          "parcoords": [
           {
            "line": {
             "colorbar": {
              "outlinewidth": 0,
              "ticks": ""
             }
            },
            "type": "parcoords"
           }
          ],
          "pie": [
           {
            "automargin": true,
            "type": "pie"
           }
          ],
          "scatter": [
           {
            "marker": {
             "colorbar": {
              "outlinewidth": 0,
              "ticks": ""
             }
            },
            "type": "scatter"
           }
          ],
          "scatter3d": [
           {
            "line": {
             "colorbar": {
              "outlinewidth": 0,
              "ticks": ""
             }
            },
            "marker": {
             "colorbar": {
              "outlinewidth": 0,
              "ticks": ""
             }
            },
            "type": "scatter3d"
           }
          ],
          "scattercarpet": [
           {
            "marker": {
             "colorbar": {
              "outlinewidth": 0,
              "ticks": ""
             }
            },
            "type": "scattercarpet"
           }
          ],
          "scattergeo": [
           {
            "marker": {
             "colorbar": {
              "outlinewidth": 0,
              "ticks": ""
             }
            },
            "type": "scattergeo"
           }
          ],
          "scattergl": [
           {
            "marker": {
             "colorbar": {
              "outlinewidth": 0,
              "ticks": ""
             }
            },
            "type": "scattergl"
           }
          ],
          "scattermapbox": [
           {
            "marker": {
             "colorbar": {
              "outlinewidth": 0,
              "ticks": ""
             }
            },
            "type": "scattermapbox"
           }
          ],
          "scatterpolar": [
           {
            "marker": {
             "colorbar": {
              "outlinewidth": 0,
              "ticks": ""
             }
            },
            "type": "scatterpolar"
           }
          ],
          "scatterpolargl": [
           {
            "marker": {
             "colorbar": {
              "outlinewidth": 0,
              "ticks": ""
             }
            },
            "type": "scatterpolargl"
           }
          ],
          "scatterternary": [
           {
            "marker": {
             "colorbar": {
              "outlinewidth": 0,
              "ticks": ""
             }
            },
            "type": "scatterternary"
           }
          ],
          "surface": [
           {
            "colorbar": {
             "outlinewidth": 0,
             "ticks": ""
            },
            "colorscale": [
             [
              0,
              "#0d0887"
             ],
             [
              0.1111111111111111,
              "#46039f"
             ],
             [
              0.2222222222222222,
              "#7201a8"
             ],
             [
              0.3333333333333333,
              "#9c179e"
             ],
             [
              0.4444444444444444,
              "#bd3786"
             ],
             [
              0.5555555555555556,
              "#d8576b"
             ],
             [
              0.6666666666666666,
              "#ed7953"
             ],
             [
              0.7777777777777778,
              "#fb9f3a"
             ],
             [
              0.8888888888888888,
              "#fdca26"
             ],
             [
              1,
              "#f0f921"
             ]
            ],
            "type": "surface"
           }
          ],
          "table": [
           {
            "cells": {
             "fill": {
              "color": "#EBF0F8"
             },
             "line": {
              "color": "white"
             }
            },
            "header": {
             "fill": {
              "color": "#C8D4E3"
             },
             "line": {
              "color": "white"
             }
            },
            "type": "table"
           }
          ]
         },
         "layout": {
          "annotationdefaults": {
           "arrowcolor": "#2a3f5f",
           "arrowhead": 0,
           "arrowwidth": 1
          },
          "autotypenumbers": "strict",
          "coloraxis": {
           "colorbar": {
            "outlinewidth": 0,
            "ticks": ""
           }
          },
          "colorscale": {
           "diverging": [
            [
             0,
             "#8e0152"
            ],
            [
             0.1,
             "#c51b7d"
            ],
            [
             0.2,
             "#de77ae"
            ],
            [
             0.3,
             "#f1b6da"
            ],
            [
             0.4,
             "#fde0ef"
            ],
            [
             0.5,
             "#f7f7f7"
            ],
            [
             0.6,
             "#e6f5d0"
            ],
            [
             0.7,
             "#b8e186"
            ],
            [
             0.8,
             "#7fbc41"
            ],
            [
             0.9,
             "#4d9221"
            ],
            [
             1,
             "#276419"
            ]
           ],
           "sequential": [
            [
             0,
             "#0d0887"
            ],
            [
             0.1111111111111111,
             "#46039f"
            ],
            [
             0.2222222222222222,
             "#7201a8"
            ],
            [
             0.3333333333333333,
             "#9c179e"
            ],
            [
             0.4444444444444444,
             "#bd3786"
            ],
            [
             0.5555555555555556,
             "#d8576b"
            ],
            [
             0.6666666666666666,
             "#ed7953"
            ],
            [
             0.7777777777777778,
             "#fb9f3a"
            ],
            [
             0.8888888888888888,
             "#fdca26"
            ],
            [
             1,
             "#f0f921"
            ]
           ],
           "sequentialminus": [
            [
             0,
             "#0d0887"
            ],
            [
             0.1111111111111111,
             "#46039f"
            ],
            [
             0.2222222222222222,
             "#7201a8"
            ],
            [
             0.3333333333333333,
             "#9c179e"
            ],
            [
             0.4444444444444444,
             "#bd3786"
            ],
            [
             0.5555555555555556,
             "#d8576b"
            ],
            [
             0.6666666666666666,
             "#ed7953"
            ],
            [
             0.7777777777777778,
             "#fb9f3a"
            ],
            [
             0.8888888888888888,
             "#fdca26"
            ],
            [
             1,
             "#f0f921"
            ]
           ]
          },
          "colorway": [
           "#636efa",
           "#EF553B",
           "#00cc96",
           "#ab63fa",
           "#FFA15A",
           "#19d3f3",
           "#FF6692",
           "#B6E880",
           "#FF97FF",
           "#FECB52"
          ],
          "font": {
           "color": "#2a3f5f"
          },
          "geo": {
           "bgcolor": "white",
           "lakecolor": "white",
           "landcolor": "#E5ECF6",
           "showlakes": true,
           "showland": true,
           "subunitcolor": "white"
          },
          "hoverlabel": {
           "align": "left"
          },
          "hovermode": "closest",
          "mapbox": {
           "style": "light"
          },
          "paper_bgcolor": "white",
          "plot_bgcolor": "#E5ECF6",
          "polar": {
           "angularaxis": {
            "gridcolor": "white",
            "linecolor": "white",
            "ticks": ""
           },
           "bgcolor": "#E5ECF6",
           "radialaxis": {
            "gridcolor": "white",
            "linecolor": "white",
            "ticks": ""
           }
          },
          "scene": {
           "xaxis": {
            "backgroundcolor": "#E5ECF6",
            "gridcolor": "white",
            "gridwidth": 2,
            "linecolor": "white",
            "showbackground": true,
            "ticks": "",
            "zerolinecolor": "white"
           },
           "yaxis": {
            "backgroundcolor": "#E5ECF6",
            "gridcolor": "white",
            "gridwidth": 2,
            "linecolor": "white",
            "showbackground": true,
            "ticks": "",
            "zerolinecolor": "white"
           },
           "zaxis": {
            "backgroundcolor": "#E5ECF6",
            "gridcolor": "white",
            "gridwidth": 2,
            "linecolor": "white",
            "showbackground": true,
            "ticks": "",
            "zerolinecolor": "white"
           }
          },
          "shapedefaults": {
           "line": {
            "color": "#2a3f5f"
           }
          },
          "ternary": {
           "aaxis": {
            "gridcolor": "white",
            "linecolor": "white",
            "ticks": ""
           },
           "baxis": {
            "gridcolor": "white",
            "linecolor": "white",
            "ticks": ""
           },
           "bgcolor": "#E5ECF6",
           "caxis": {
            "gridcolor": "white",
            "linecolor": "white",
            "ticks": ""
           }
          },
          "title": {
           "x": 0.05
          },
          "xaxis": {
           "automargin": true,
           "gridcolor": "white",
           "linecolor": "white",
           "ticks": "",
           "title": {
            "standoff": 15
           },
           "zerolinecolor": "white",
           "zerolinewidth": 2
          },
          "yaxis": {
           "automargin": true,
           "gridcolor": "white",
           "linecolor": "white",
           "ticks": "",
           "title": {
            "standoff": 15
           },
           "zerolinecolor": "white",
           "zerolinewidth": 2
          }
         }
        },
        "title": {
         "text": "Events Per Minute"
        },
        "xaxis": {
         "tickformat": "0:g",
         "title": {
          "text": "Time in Minutes"
         }
        },
        "yaxis": {
         "tickformat": "0:g",
         "title": {
          "text": "Events Completed"
         },
         "type": "linear"
        }
       }
      },
      "text/html": [
       "<div>                            <div id=\"69c311bb-af59-4024-aa4c-918088a1a015\" class=\"plotly-graph-div\" style=\"height:525px; width:100%;\"></div>            <script type=\"text/javascript\">                require([\"plotly\"], function(Plotly) {                    window.PLOTLYENV=window.PLOTLYENV || {};                                    if (document.getElementById(\"69c311bb-af59-4024-aa4c-918088a1a015\")) {                    Plotly.newPlot(                        \"69c311bb-af59-4024-aa4c-918088a1a015\",                        [{\"line\":{\"color\":\"#0b6374\",\"shape\":\"spline\",\"smoothing\":0.3},\"mode\":\"lines\",\"name\":\"events_completed_past_minute\",\"x\":[0,1,2,3,4,5,6,7,8,9,10,11,12,13,14,15,16,17,18,19,20,21,22,23,24,25,26,27,28,29,30,31,32,33,34],\"y\":[0,16,23,21,28,34,27,30,29,40,30,40,33,28,24,20,26,32,6,0,0,0,0,11,19,29,23,27,31,30,27,6,20,29,14],\"type\":\"scatter\"}],                        {\"legend\":{\"orientation\":\"h\"},\"template\":{\"data\":{\"barpolar\":[{\"marker\":{\"line\":{\"color\":\"#E5ECF6\",\"width\":0.5},\"pattern\":{\"fillmode\":\"overlay\",\"size\":10,\"solidity\":0.2}},\"type\":\"barpolar\"}],\"bar\":[{\"error_x\":{\"color\":\"#2a3f5f\"},\"error_y\":{\"color\":\"#2a3f5f\"},\"marker\":{\"line\":{\"color\":\"#E5ECF6\",\"width\":0.5},\"pattern\":{\"fillmode\":\"overlay\",\"size\":10,\"solidity\":0.2}},\"type\":\"bar\"}],\"carpet\":[{\"aaxis\":{\"endlinecolor\":\"#2a3f5f\",\"gridcolor\":\"white\",\"linecolor\":\"white\",\"minorgridcolor\":\"white\",\"startlinecolor\":\"#2a3f5f\"},\"baxis\":{\"endlinecolor\":\"#2a3f5f\",\"gridcolor\":\"white\",\"linecolor\":\"white\",\"minorgridcolor\":\"white\",\"startlinecolor\":\"#2a3f5f\"},\"type\":\"carpet\"}],\"choropleth\":[{\"colorbar\":{\"outlinewidth\":0,\"ticks\":\"\"},\"type\":\"choropleth\"}],\"contourcarpet\":[{\"colorbar\":{\"outlinewidth\":0,\"ticks\":\"\"},\"type\":\"contourcarpet\"}],\"contour\":[{\"colorbar\":{\"outlinewidth\":0,\"ticks\":\"\"},\"colorscale\":[[0.0,\"#0d0887\"],[0.1111111111111111,\"#46039f\"],[0.2222222222222222,\"#7201a8\"],[0.3333333333333333,\"#9c179e\"],[0.4444444444444444,\"#bd3786\"],[0.5555555555555556,\"#d8576b\"],[0.6666666666666666,\"#ed7953\"],[0.7777777777777778,\"#fb9f3a\"],[0.8888888888888888,\"#fdca26\"],[1.0,\"#f0f921\"]],\"type\":\"contour\"}],\"heatmapgl\":[{\"colorbar\":{\"outlinewidth\":0,\"ticks\":\"\"},\"colorscale\":[[0.0,\"#0d0887\"],[0.1111111111111111,\"#46039f\"],[0.2222222222222222,\"#7201a8\"],[0.3333333333333333,\"#9c179e\"],[0.4444444444444444,\"#bd3786\"],[0.5555555555555556,\"#d8576b\"],[0.6666666666666666,\"#ed7953\"],[0.7777777777777778,\"#fb9f3a\"],[0.8888888888888888,\"#fdca26\"],[1.0,\"#f0f921\"]],\"type\":\"heatmapgl\"}],\"heatmap\":[{\"colorbar\":{\"outlinewidth\":0,\"ticks\":\"\"},\"colorscale\":[[0.0,\"#0d0887\"],[0.1111111111111111,\"#46039f\"],[0.2222222222222222,\"#7201a8\"],[0.3333333333333333,\"#9c179e\"],[0.4444444444444444,\"#bd3786\"],[0.5555555555555556,\"#d8576b\"],[0.6666666666666666,\"#ed7953\"],[0.7777777777777778,\"#fb9f3a\"],[0.8888888888888888,\"#fdca26\"],[1.0,\"#f0f921\"]],\"type\":\"heatmap\"}],\"histogram2dcontour\":[{\"colorbar\":{\"outlinewidth\":0,\"ticks\":\"\"},\"colorscale\":[[0.0,\"#0d0887\"],[0.1111111111111111,\"#46039f\"],[0.2222222222222222,\"#7201a8\"],[0.3333333333333333,\"#9c179e\"],[0.4444444444444444,\"#bd3786\"],[0.5555555555555556,\"#d8576b\"],[0.6666666666666666,\"#ed7953\"],[0.7777777777777778,\"#fb9f3a\"],[0.8888888888888888,\"#fdca26\"],[1.0,\"#f0f921\"]],\"type\":\"histogram2dcontour\"}],\"histogram2d\":[{\"colorbar\":{\"outlinewidth\":0,\"ticks\":\"\"},\"colorscale\":[[0.0,\"#0d0887\"],[0.1111111111111111,\"#46039f\"],[0.2222222222222222,\"#7201a8\"],[0.3333333333333333,\"#9c179e\"],[0.4444444444444444,\"#bd3786\"],[0.5555555555555556,\"#d8576b\"],[0.6666666666666666,\"#ed7953\"],[0.7777777777777778,\"#fb9f3a\"],[0.8888888888888888,\"#fdca26\"],[1.0,\"#f0f921\"]],\"type\":\"histogram2d\"}],\"histogram\":[{\"marker\":{\"pattern\":{\"fillmode\":\"overlay\",\"size\":10,\"solidity\":0.2}},\"type\":\"histogram\"}],\"mesh3d\":[{\"colorbar\":{\"outlinewidth\":0,\"ticks\":\"\"},\"type\":\"mesh3d\"}],\"parcoords\":[{\"line\":{\"colorbar\":{\"outlinewidth\":0,\"ticks\":\"\"}},\"type\":\"parcoords\"}],\"pie\":[{\"automargin\":true,\"type\":\"pie\"}],\"scatter3d\":[{\"line\":{\"colorbar\":{\"outlinewidth\":0,\"ticks\":\"\"}},\"marker\":{\"colorbar\":{\"outlinewidth\":0,\"ticks\":\"\"}},\"type\":\"scatter3d\"}],\"scattercarpet\":[{\"marker\":{\"colorbar\":{\"outlinewidth\":0,\"ticks\":\"\"}},\"type\":\"scattercarpet\"}],\"scattergeo\":[{\"marker\":{\"colorbar\":{\"outlinewidth\":0,\"ticks\":\"\"}},\"type\":\"scattergeo\"}],\"scattergl\":[{\"marker\":{\"colorbar\":{\"outlinewidth\":0,\"ticks\":\"\"}},\"type\":\"scattergl\"}],\"scattermapbox\":[{\"marker\":{\"colorbar\":{\"outlinewidth\":0,\"ticks\":\"\"}},\"type\":\"scattermapbox\"}],\"scatterpolargl\":[{\"marker\":{\"colorbar\":{\"outlinewidth\":0,\"ticks\":\"\"}},\"type\":\"scatterpolargl\"}],\"scatterpolar\":[{\"marker\":{\"colorbar\":{\"outlinewidth\":0,\"ticks\":\"\"}},\"type\":\"scatterpolar\"}],\"scatter\":[{\"marker\":{\"colorbar\":{\"outlinewidth\":0,\"ticks\":\"\"}},\"type\":\"scatter\"}],\"scatterternary\":[{\"marker\":{\"colorbar\":{\"outlinewidth\":0,\"ticks\":\"\"}},\"type\":\"scatterternary\"}],\"surface\":[{\"colorbar\":{\"outlinewidth\":0,\"ticks\":\"\"},\"colorscale\":[[0.0,\"#0d0887\"],[0.1111111111111111,\"#46039f\"],[0.2222222222222222,\"#7201a8\"],[0.3333333333333333,\"#9c179e\"],[0.4444444444444444,\"#bd3786\"],[0.5555555555555556,\"#d8576b\"],[0.6666666666666666,\"#ed7953\"],[0.7777777777777778,\"#fb9f3a\"],[0.8888888888888888,\"#fdca26\"],[1.0,\"#f0f921\"]],\"type\":\"surface\"}],\"table\":[{\"cells\":{\"fill\":{\"color\":\"#EBF0F8\"},\"line\":{\"color\":\"white\"}},\"header\":{\"fill\":{\"color\":\"#C8D4E3\"},\"line\":{\"color\":\"white\"}},\"type\":\"table\"}]},\"layout\":{\"annotationdefaults\":{\"arrowcolor\":\"#2a3f5f\",\"arrowhead\":0,\"arrowwidth\":1},\"autotypenumbers\":\"strict\",\"coloraxis\":{\"colorbar\":{\"outlinewidth\":0,\"ticks\":\"\"}},\"colorscale\":{\"diverging\":[[0,\"#8e0152\"],[0.1,\"#c51b7d\"],[0.2,\"#de77ae\"],[0.3,\"#f1b6da\"],[0.4,\"#fde0ef\"],[0.5,\"#f7f7f7\"],[0.6,\"#e6f5d0\"],[0.7,\"#b8e186\"],[0.8,\"#7fbc41\"],[0.9,\"#4d9221\"],[1,\"#276419\"]],\"sequential\":[[0.0,\"#0d0887\"],[0.1111111111111111,\"#46039f\"],[0.2222222222222222,\"#7201a8\"],[0.3333333333333333,\"#9c179e\"],[0.4444444444444444,\"#bd3786\"],[0.5555555555555556,\"#d8576b\"],[0.6666666666666666,\"#ed7953\"],[0.7777777777777778,\"#fb9f3a\"],[0.8888888888888888,\"#fdca26\"],[1.0,\"#f0f921\"]],\"sequentialminus\":[[0.0,\"#0d0887\"],[0.1111111111111111,\"#46039f\"],[0.2222222222222222,\"#7201a8\"],[0.3333333333333333,\"#9c179e\"],[0.4444444444444444,\"#bd3786\"],[0.5555555555555556,\"#d8576b\"],[0.6666666666666666,\"#ed7953\"],[0.7777777777777778,\"#fb9f3a\"],[0.8888888888888888,\"#fdca26\"],[1.0,\"#f0f921\"]]},\"colorway\":[\"#636efa\",\"#EF553B\",\"#00cc96\",\"#ab63fa\",\"#FFA15A\",\"#19d3f3\",\"#FF6692\",\"#B6E880\",\"#FF97FF\",\"#FECB52\"],\"font\":{\"color\":\"#2a3f5f\"},\"geo\":{\"bgcolor\":\"white\",\"lakecolor\":\"white\",\"landcolor\":\"#E5ECF6\",\"showlakes\":true,\"showland\":true,\"subunitcolor\":\"white\"},\"hoverlabel\":{\"align\":\"left\"},\"hovermode\":\"closest\",\"mapbox\":{\"style\":\"light\"},\"paper_bgcolor\":\"white\",\"plot_bgcolor\":\"#E5ECF6\",\"polar\":{\"angularaxis\":{\"gridcolor\":\"white\",\"linecolor\":\"white\",\"ticks\":\"\"},\"bgcolor\":\"#E5ECF6\",\"radialaxis\":{\"gridcolor\":\"white\",\"linecolor\":\"white\",\"ticks\":\"\"}},\"scene\":{\"xaxis\":{\"backgroundcolor\":\"#E5ECF6\",\"gridcolor\":\"white\",\"gridwidth\":2,\"linecolor\":\"white\",\"showbackground\":true,\"ticks\":\"\",\"zerolinecolor\":\"white\"},\"yaxis\":{\"backgroundcolor\":\"#E5ECF6\",\"gridcolor\":\"white\",\"gridwidth\":2,\"linecolor\":\"white\",\"showbackground\":true,\"ticks\":\"\",\"zerolinecolor\":\"white\"},\"zaxis\":{\"backgroundcolor\":\"#E5ECF6\",\"gridcolor\":\"white\",\"gridwidth\":2,\"linecolor\":\"white\",\"showbackground\":true,\"ticks\":\"\",\"zerolinecolor\":\"white\"}},\"shapedefaults\":{\"line\":{\"color\":\"#2a3f5f\"}},\"ternary\":{\"aaxis\":{\"gridcolor\":\"white\",\"linecolor\":\"white\",\"ticks\":\"\"},\"baxis\":{\"gridcolor\":\"white\",\"linecolor\":\"white\",\"ticks\":\"\"},\"bgcolor\":\"#E5ECF6\",\"caxis\":{\"gridcolor\":\"white\",\"linecolor\":\"white\",\"ticks\":\"\"}},\"title\":{\"x\":0.05},\"xaxis\":{\"automargin\":true,\"gridcolor\":\"white\",\"linecolor\":\"white\",\"ticks\":\"\",\"title\":{\"standoff\":15},\"zerolinecolor\":\"white\",\"zerolinewidth\":2},\"yaxis\":{\"automargin\":true,\"gridcolor\":\"white\",\"linecolor\":\"white\",\"ticks\":\"\",\"title\":{\"standoff\":15},\"zerolinecolor\":\"white\",\"zerolinewidth\":2}}},\"title\":{\"text\":\"Events Per Minute\"},\"xaxis\":{\"tickformat\":\"0:g\",\"title\":{\"text\":\"Time in Minutes\"}},\"yaxis\":{\"tickformat\":\"0:g\",\"title\":{\"text\":\"Events Completed\"},\"type\":\"linear\"}},                        {\"responsive\": true}                    ).then(function(){\n",
       "                            \n",
       "var gd = document.getElementById('69c311bb-af59-4024-aa4c-918088a1a015');\n",
       "var x = new MutationObserver(function (mutations, observer) {{\n",
       "        var display = window.getComputedStyle(gd).display;\n",
       "        if (!display || display === 'none') {{\n",
       "            console.log([gd, 'removed!']);\n",
       "            Plotly.purge(gd);\n",
       "            observer.disconnect();\n",
       "        }}\n",
       "}});\n",
       "\n",
       "// Listen for the removal of the full notebook cells\n",
       "var notebookContainer = gd.closest('#notebook-container');\n",
       "if (notebookContainer) {{\n",
       "    x.observe(notebookContainer, {childList: true});\n",
       "}}\n",
       "\n",
       "// Listen for the clearing of the current output cell\n",
       "var outputEl = gd.closest('.output');\n",
       "if (outputEl) {{\n",
       "    x.observe(outputEl, {childList: true});\n",
       "}}\n",
       "\n",
       "                        })                };                });            </script>        </div>"
      ]
     },
     "metadata": {},
     "output_type": "display_data"
    },
    {
     "data": {
      "image/png": "[encoded data removed]",
      "text/plain": [
       "<Figure size 864x864 with 9 Axes>"
      ]
     },
     "metadata": {
      "needs_background": "light"
     },
     "output_type": "display_data"
    }
   ],
   "source": [
    "for player in players:\n",
    "    #print(players[player])\n",
    "    print(\"player_id: \",player,\"\\n\\n\",string_report(players[player]), sep=\"\")\n",
    "    plots(players[player])\n",
    "    \n",
    "    player_session_data = players[player].copy()\n",
    "    for session in player_session_data:\n",
    "        p = player_session_data[session]\n",
    "        player_session_data[session] = sqldf(\"SELECT * FROM p LIMIT 1\")\n",
    "        for col in [\"idle_time_60\",\"idle_count_60\",\"idle_time_300\",\"idle_count_300\",\"total_stars\",\"new_minigames_completed\",\"total_minigames_done_btn\",\"total_quits\",\"total_restarts\",\"proportion_filled_labels\",\"total_events\",\"profanity_uses\"]:\n",
    "            if(col not in player_session_data[session].columns):\n",
    "                    player_session_data[session][col] = 0\n",
    "        if(\"profane_text\" not in player_session_data[session].columns):\n",
    "            player_session_data[session][\"profane_text\"] = \"\"\n",
    "        player_session_data[session] = pd.Series(player_session_data[session].iloc[0])\n",
    "    recent_keys = sorted(list(player_session_data.keys()), key=lambda x: x.strip()[-1], reverse=True)\n",
    "    present = recent_keys[0]\n",
    "    \n",
    "    column_nice_format = {\"total_stars\":\"Number of stars earned\",\"total_minigames_done_btn\":\"Total number of minigames completed\",\n",
    "                         \"new_minigames_completed\":\"Number of new minigames completed\",\"total_events\":\"Total number of events performed\",\n",
    "                         \"total_time\":\"Total time in session\",\"total_quits\":\"Total times quitting a minigame\",\n",
    "                         \"total_restarts\":\"Total times restarting a minigame\", \"idle_time_60\":\"Total time spent idling for more than 1 minute\",\n",
    "                         \"idle_time_300\":\"Total time spent idling for more than 5 minutes\",\"proportion_filled_labels\":\"Proportion of encountered labels that were filled\"}\n",
    "        \n",
    "    print(\"Unusual activity\\n================\")\n",
    "    for col in quartile_dict:\n",
    "        try:\n",
    "            if(player_session_data[present][col] < quartile_dict.get(col)[0] or player_session_data[present][col] > quartile_dict.get(col)[1]):\n",
    "                print(f\"!! - {column_nice_format.get(col)} was {player_session_data[present][col]} but is expected to be between {quartile_dict.get(col)[0]} and {quartile_dict.get(col)[1]}\")\n",
    "        except:\n",
    "            print(f\"Error with {col}, please check manually.\")\n",
    "    time_series(players[player][list(players[player].keys())[-1]])"
   ]
  },
  {
   "cell_type": "code",
   "execution_count": null,
   "id": "b9d03d6e",
   "metadata": {},
   "outputs": [],
   "source": []
  },
  {
   "cell_type": "code",
   "execution_count": null,
   "id": "ed5ae138",
   "metadata": {},
   "outputs": [],
   "source": []
  }
 ],
 "metadata": {
  "kernelspec": {
   "display_name": "Python 3 (ipykernel)",
   "language": "python",
   "name": "python3"
  },
  "language_info": {
   "codemirror_mode": {
    "name": "ipython",
    "version": 3
   },
   "file_extension": ".py",
   "mimetype": "text/x-python",
   "name": "python",
   "nbconvert_exporter": "python",
   "pygments_lexer": "ipython3",
   "version": "3.9.7"
  }
 },
 "nbformat": 4,
 "nbformat_minor": 5
}
